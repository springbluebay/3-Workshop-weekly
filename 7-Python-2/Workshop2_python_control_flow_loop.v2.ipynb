{
 "cells": [
  {
   "cell_type": "markdown",
   "metadata": {},
   "source": [
    "SORU:1\n",
    "Aldığınız kursun adına göre IT alanında meslek sahibi olup olamayacağınızı ekrana yazdıran bir kod yazınız."
   ]
  },
  {
   "cell_type": "code",
   "execution_count": null,
   "metadata": {
    "tags": []
   },
   "outputs": [],
   "source": [
    "course = 'apple'\n",
    "\n",
    "if course == \"clarusway\":\n",
    "    print(\"You guaranteed the job\")\n",
    "else:\n",
    "    print(\"Think about it again\")"
   ]
  },
  {
   "cell_type": "markdown",
   "metadata": {},
   "source": [
    "SORU:2\n",
    "Alınan ağırlık değerine göre ağırlığı kaldırıp kaldıramayacağınızı ekrana yazdıran bir kod yazınız."
   ]
  },
  {
   "cell_type": "code",
   "execution_count": null,
   "metadata": {
    "tags": []
   },
   "outputs": [],
   "source": [
    "weight = int(input(\"ağırlığını giriniz:\"))\n",
    "if weight > 100:\n",
    "    print(\"That's too heavy!\")\n",
    "elif weight > 75:\n",
    "    print(\"I can lift that!\")\n",
    "else:\n",
    "    print(\"That's too light!\")"
   ]
  },
  {
   "cell_type": "markdown",
   "metadata": {},
   "source": [
    "SORU:3 Girilen sayının pozitif, negatif, ya da 0 olduğunu bulan kodu yazınız."
   ]
  },
  {
   "cell_type": "code",
   "execution_count": null,
   "metadata": {
    "tags": []
   },
   "outputs": [],
   "source": [
    "sayi = input('Sayı : ')\n",
    "\n",
    "if(int(sayi)<0):\n",
    "      print(\"Sayı Negatif\")\n",
    "elif(int(sayi)>0):\n",
    "      print(\"Sayı Pozitif\")\n",
    "else:\n",
    "      print(\"Sayı Sıfır\")\n"
   ]
  },
  {
   "cell_type": "markdown",
   "metadata": {},
   "source": [
    "SORU:4\n",
    "Kişinin ad, kilo ve boy bilgilerini alıp kilo indekslerini hesaplayan python uygulamasını yapınız.\n",
    "\n",
    "Formül: (Kilo / boy uzunluğunun karesi)\n",
    "\n",
    "Aşağıdaki tabloya göre kişi hangi gruba girmektedir.\n",
    "\n",
    "0-18.4 => Zayıf\n",
    "\n",
    "18.5-24.9 => Normal\n",
    "\n",
    "25.0-29.9 => Fazla Kilolu\n",
    "\n",
    "30.0-34.9 => Şişman (Obez)Kişinin ad, kilo ve boy bilgilerini alıp kilo indekslerini hesaplayan python uygulamasını yapınız."
   ]
  },
  {
   "cell_type": "code",
   "execution_count": null,
   "metadata": {
    "tags": []
   },
   "outputs": [],
   "source": [
    "name = input('adınız: ')\n",
    "kg = float(input('kilonuz kg.: '))\n",
    "hg = float(input('boyunuz mt.: '))\n",
    "\n",
    "index = (kg) / (hg ** 2)\n",
    "index=round(index,2)\n",
    "\n",
    "if (index >= 0) and (index<=18.4):\n",
    "   print(f'{name} kilo indeksin: {index} ve kilo değerlendirmen zayıf.')\n",
    "elif (index>18.4) and (index<=24.9):\n",
    "   print(f'{name} kilo indeksin: {index} ve kilo değerlendirmen normal.')\n",
    "elif (index>24.9) and (index<=29.9):\n",
    "   print(f'{name} kilo indeksin: {index} ve kilo değerlendirmen kilolu.')\n",
    "elif (index>=29.9) and (index<=45.9):\n",
    "   print(f'{name} kilo indeksin: {index} ve kilo değerlendirmen obez.')\n",
    "else:\n",
    "   print('bilgileriniz yanlış.')\n"
   ]
  },
  {
   "cell_type": "markdown",
   "metadata": {},
   "source": [
    "SORU:5 Meyvelerden oluşan bir liste oluştur ve for kullanarak ekrana yazdır:"
   ]
  },
  {
   "cell_type": "code",
   "execution_count": null,
   "metadata": {
    "tags": []
   },
   "outputs": [],
   "source": [
    "L = [\"elma\", \"armut\", \"karpuz\"]\n",
    "for s in L:\n",
    "    print(s)"
   ]
  },
  {
   "cell_type": "markdown",
   "metadata": {},
   "source": [
    "SORU:6  0 ile 10 arasındaki sayıları ve karelerini for kullanarak ekrana yazdır."
   ]
  },
  {
   "cell_type": "code",
   "execution_count": null,
   "metadata": {
    "tags": []
   },
   "outputs": [],
   "source": [
    "for x in range(11): \n",
    "    print(x, x**2)"
   ]
  },
  {
   "cell_type": "markdown",
   "metadata": {},
   "source": [
    "SORU:7 1 ile 10 arasında sayıları for kullanarak ekrana yazdır 5 i görünce döngüden çık."
   ]
  },
  {
   "cell_type": "code",
   "execution_count": null,
   "metadata": {
    "tags": []
   },
   "outputs": [],
   "source": [
    "for i in range(1, 10):\n",
    "    if(i%5==0):\n",
    "        break\n",
    "print(i)"
   ]
  },
  {
   "cell_type": "markdown",
   "metadata": {},
   "source": [
    "SORU:8 0 dan 10 a kadar olan tek sayıları for döngüsü kullanarak ekrana yazdır."
   ]
  },
  {
   "cell_type": "code",
   "execution_count": null,
   "metadata": {
    "tags": []
   },
   "outputs": [],
   "source": [
    "for x in range(10):\n",
    "    if x % 2 == 0:\n",
    "        continue\n",
    "    print(x)"
   ]
  },
  {
   "cell_type": "markdown",
   "metadata": {},
   "source": [
    "SORU:9 While döngüsü kullanarak sonsuz döngü örneği yazınız."
   ]
  },
  {
   "cell_type": "code",
   "execution_count": null,
   "metadata": {
    "tags": [
     "outputPrepend"
    ]
   },
   "outputs": [],
   "source": [
    "flag = 1 \n",
    "\n",
    "while (flag): \n",
    "    print (\"Flag degisken True degere sahiptir\")\n"
   ]
  },
  {
   "cell_type": "markdown",
   "metadata": {},
   "source": [
    "SORU:10 Girilen sayının faktoriyelini alan kodu for döngüsü kullanarak yazınız."
   ]
  },
  {
   "cell_type": "code",
   "execution_count": null,
   "metadata": {
    "tags": []
   },
   "outputs": [],
   "source": [
    "sonuc=1;\n",
    "sayi=input('Sayı giriniz: ')\n",
    "\n",
    "for i in range(1,int(sayi)+1):\n",
    "      sonuc*=i\n",
    "print(\"{} sayısının faktoriyeli : {}\".format(sayi,sonuc))"
   ]
  },
  {
   "cell_type": "markdown",
   "metadata": {},
   "source": [
    "SORU:11 for döngüsü kullanarak 1 den 10 a kadar çarpım tablosu oluşturunuz."
   ]
  },
  {
   "cell_type": "code",
   "execution_count": null,
   "metadata": {
    "tags": []
   },
   "outputs": [],
   "source": [
    "for x in range(1,11):\n",
    "  for y in range(1,11):\n",
    "    print(x,\"x\", y,\"=\",x*y)"
   ]
  },
  {
   "cell_type": "markdown",
   "metadata": {},
   "source": [
    "SORU:12 for döngüsü kullanarak bir sözlüğün elemanlarını ekrana yazdırınız."
   ]
  },
  {
   "cell_type": "code",
   "execution_count": null,
   "metadata": {
    "tags": []
   },
   "outputs": [],
   "source": [
    "sözlük = {\"bir\":1,\"iki\":2,\"üç\":3,\"dört\":4} #yöntem1\n",
    "for eleman in sözlük:\n",
    "    print(eleman)"
   ]
  },
  {
   "cell_type": "code",
   "execution_count": null,
   "metadata": {
    "tags": []
   },
   "outputs": [],
   "source": [
    "sözlük = {\"bir\":1,\"iki\":2,\"üç\":3,\"dört\":4} #yöntem2\n",
    "for eleman in sözlük.keys():\n",
    "    print(eleman)"
   ]
  },
  {
   "cell_type": "markdown",
   "metadata": {},
   "source": [
    "SORU:13 Aşağıda verilen listenin tüm elemanlarını while döngüsü kullanarak ekrana yazdırınız."
   ]
  },
  {
   "cell_type": "code",
   "execution_count": null,
   "metadata": {
    "tags": []
   },
   "outputs": [],
   "source": [
    "L = [\"elma\",\"armut\",\"karpuz\"]\n",
    "i=0\n",
    "while i < len(L):\n",
    "    print(L[i])\n",
    "    i += 1"
   ]
  },
  {
   "cell_type": "markdown",
   "metadata": {},
   "source": [
    "SORU:14  1'den 10' a kadar olan sayıları while kullanarak ekrana yazdırınız.\n"
   ]
  },
  {
   "cell_type": "code",
   "execution_count": null,
   "metadata": {
    "tags": []
   },
   "outputs": [],
   "source": [
    "a=1\n",
    "b=10\n",
    "while a<b:\n",
    "    print(a, end=\" \")\n",
    "    a += 1  "
   ]
  },
  {
   "cell_type": "markdown",
   "metadata": {},
   "source": [
    "SORU:15  Write a Python code that counts how many vowels and constants a string has that a user entered."
   ]
  },
  {
   "cell_type": "code",
   "execution_count": null,
   "metadata": {
    "tags": []
   },
   "outputs": [],
   "source": [
    "text = input(\"Please enter a string : \").lower()\n",
    "constants = 0\n",
    "vowels = 0\n",
    "\n",
    "for i in range(len(text)):\n",
    "    if text[i] in set(\"aeıioöuü\"):\n",
    "        vowels += 1\n",
    "    elif text[i] in set(\"bcçdfgğhjklmnpqrsştwxyz\"):\n",
    "        constants += 1\n",
    "print(f\"Your text has {vowels} vowels and {constants} constants\")\n"
   ]
  },
  {
   "cell_type": "markdown",
   "metadata": {},
   "source": [
    "SORU:16  Print-return farkı"
   ]
  },
  {
   "cell_type": "code",
   "execution_count": null,
   "metadata": {
    "tags": []
   },
   "outputs": [],
   "source": [
    "def add(a,b):\n",
    "    return(a+5, b+5)\n",
    "add(3,2)\n",
    "result=add(3,2)\n",
    "print(result)\n",
    "print(type(result))\n"
   ]
  },
  {
   "cell_type": "markdown",
   "metadata": {},
   "source": [
    "SORU:17  *arg and **kwargs"
   ]
  },
  {
   "cell_type": "code",
   "execution_count": null,
   "metadata": {
    "tags": []
   },
   "outputs": [],
   "source": [
    "#Python Basics Plus-Session-16-Joseph-14/07/20  saat: 1:50'de konu anlatımı\n",
    "#Using *args and **kwargs to call a function\n",
    "\n",
    "\n",
    "def myFun(arg1, arg2, arg3): \n",
    "    print(\"arg1:\", arg1) \n",
    "    print(\"arg2:\", arg2) \n",
    "    print(\"arg3:\", arg3) \n",
    "      \n",
    "# Now we can use *args or **kwargs to \n",
    "# pass arguments to this function :  \n",
    "args = [\"Geeks\", \"for\", \"Geeks\"] \n",
    "myFun(*args) \n",
    "  \n",
    "kwargs = {\"arg1\" : \"Geeks\", \"arg2\" : \"for\", \"arg3\" : \"Geeks\"} \n",
    "myFun(**kwargs)"
   ]
  },
  {
   "cell_type": "markdown",
   "metadata": {},
   "source": [
    "SORU:18  *arg and **kwargs"
   ]
  },
  {
   "cell_type": "code",
   "execution_count": null,
   "metadata": {
    "tags": []
   },
   "outputs": [],
   "source": [
    "#Using *args and **kwargs in same line to call a function\n",
    "\n",
    "def myFun(*args,**kwargs): \n",
    "    print(\"args: \", args) \n",
    "    print(\"kwargs: \", kwargs) \n",
    "  \n",
    "# Now we can use both *args ,**kwargs to pass arguments to this function : \n",
    "myFun('geeks','for','geeks', 'for',first=\"Geeks\",mid=\"for\",last=\"Geeks\") "
   ]
  },
  {
   "cell_type": "markdown",
   "metadata": {},
   "source": [
    "SORU:19  Define a function with 'arbitrary numbers of arguments' method named as ‘spec_opr(*numbers)' . This function sums all of the arguments after a process. \n",
    "This process is even numbers should be divided by 2 and odd numbers should be multiplied with 3 first and then added to the total sum. \n",
    "\n",
    "Examples:\n",
    "\n",
    "spec_opr(3, 2, 6) should return 13,\n",
    "\n",
    "spec_opr(58, 53, 10, -10, -40, -28, 8, 34, 70, -16, 33) should return 301,\n",
    "\n",
    "spec_opr(93, 12, 5, 84, -22) should return 331"
   ]
  },
  {
   "cell_type": "code",
   "execution_count": null,
   "metadata": {
    "tags": []
   },
   "outputs": [],
   "source": [
    "def spec_opr(*numbers):\n",
    "    total = 0\n",
    "    for number in numbers:\n",
    "        if number % 2 == 0:\n",
    "            total += number/2\n",
    "        else:\n",
    "            total += number*3\n",
    "    return int(total)\n",
    "spec_opr(3, 2, 6)\n",
    "#spec_opr(58, 53, 10, -10, -40, -28, 8, 34, 70, -16, 33)\n",
    "#spec_opr(93, 12, 5, 84, -22)\n"
   ]
  },
  {
   "cell_type": "markdown",
   "metadata": {},
   "source": [
    "SORU:20  Write a Python program to sort a list of tuples using Lambda."
   ]
  },
  {
   "cell_type": "code",
   "execution_count": null,
   "metadata": {
    "tags": []
   },
   "outputs": [],
   "source": [
    "subject_marks = [('English', 88), ('Science', 90), ('Maths', 97), ('Social sciences', 82)]\n",
    "\n",
    "print(\"Original list of tuples:\")\n",
    "print(subject_marks)\n",
    "subject_marks.sort(key = lambda x: x[1])\n",
    "print(\"\\nSorting the List of Tuples:\")\n",
    "print(subject_marks)\n",
    "\n"
   ]
  },
  {
   "cell_type": "markdown",
   "metadata": {},
   "source": [
    "SORU:21  Write a Python function that takes a list and returns a new list with unique elements of the first list."
   ]
  },
  {
   "cell_type": "code",
   "execution_count": null,
   "metadata": {
    "tags": []
   },
   "outputs": [],
   "source": [
    "def unique_list(l):\n",
    "  x = []\n",
    "  for a in l:\n",
    "    if a not in x:\n",
    "      x.append(a)\n",
    "  return x\n",
    "print(unique_list([1,2,3,3,3,3,4,5]))"
   ]
  },
  {
   "cell_type": "markdown",
   "metadata": {},
   "source": [
    "SORU:22  Write a Python program to filter a list of integers using Lambda."
   ]
  },
  {
   "cell_type": "code",
   "execution_count": null,
   "metadata": {
    "tags": []
   },
   "outputs": [],
   "source": [
    "nums = [1, 2, 3, 4, 5, 6, 7, 8, 9, 10]\n",
    "\n",
    "print(\"Original list of integers:\")\n",
    "print(nums)\n",
    "\n",
    "print(\"\\nEven numbers from the said list:\")\n",
    "even_nums = list(filter(lambda x: x%2 == 0, nums))\n",
    "print(even_nums)\n",
    "\n",
    "print(\"\\nOdd numbers from the said list:\")\n",
    "odd_nums = list(filter(lambda x: x%2 != 0, nums))\n",
    "print(odd_nums)"
   ]
  }
 ],
 "metadata": {
  "kernelspec": {
   "display_name": "Python 3",
   "language": "python",
   "name": "python3"
  },
  "language_info": {
   "codemirror_mode": {
    "name": "ipython",
    "version": 3
   },
   "file_extension": ".py",
   "mimetype": "text/x-python",
   "name": "python",
   "nbconvert_exporter": "python",
   "pygments_lexer": "ipython3",
   "version": "3.7.7-final"
  }
 },
 "nbformat": 4,
 "nbformat_minor": 4
}