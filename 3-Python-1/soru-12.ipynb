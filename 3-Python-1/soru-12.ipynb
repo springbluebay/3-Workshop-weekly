{
 "cells": [
  {
   "cell_type": "code",
   "execution_count": 3,
   "metadata": {
    "tags": []
   },
   "outputs": [
    {
     "output_type": "stream",
     "name": "stdout",
     "text": "[71, 45, 29, 15]\n['Jack', 'Emma', 'Ben', 'Amy']\n\n\n15\nEmma\n['Emma', 'Jack', 'Ben', 'Amy']\n\n\nEmma : 71\n"
    }
   ],
   "source": [
    "# The max() function returns the item with the highest value, or the item with the highest value in an iterable.\n",
    "old = {\n",
    "  \"Emma\": 71,\n",
    "  \"Jack\": 45,\n",
    "  \"Amy\": 15,\n",
    "  \"Ben\": 29\n",
    "}\n",
    "\n",
    "print(sorted(old.values(), reverse=True))\n",
    "print(sorted(old, reverse=True))\n",
    "print(\"\\n\")\n",
    "\n",
    "print(old.get(\"Amy\"))  # The get() method returns the value of the item with the specified key if key is in dictionary.\n",
    "print(max(old, key=old.get)) \n",
    "\n",
    "print(sorted(old, key=old.get, reverse=True))\n",
    "print(\"\\n\")\n",
    "\n",
    "Keymax = max(old, key=old.get)\n",
    "print(Keymax, \":\", old[max(old, key=old.get)])"
   ]
  },
  {
   "cell_type": "code",
   "execution_count": 2,
   "metadata": {
    "tags": []
   },
   "outputs": [
    {
     "output_type": "stream",
     "name": "stdout",
     "text": "The largest key: Jack\nThe key with the largest value: Emma\n"
    }
   ],
   "source": [
    "old = {\n",
    "  \"Emma\": 71,\n",
    "  \"Jack\": 45,\n",
    "  \"Amy\": 15,\n",
    "  \"Ben\": 29\n",
    "}\n",
    "\n",
    "print(\"The largest key:\", max(old)) # the largest key\n",
    "\n",
    "key1 = max(old, key = lambda k: old[k])       #lambda\n",
    "print(\"The key with the largest value:\", key1)  "
   ]
  },
  {
   "cell_type": "code",
   "execution_count": null,
   "metadata": {},
   "outputs": [],
   "source": []
  }
 ],
 "metadata": {
  "language_info": {
   "codemirror_mode": {
    "name": "ipython",
    "version": 3
   },
   "file_extension": ".py",
   "mimetype": "text/x-python",
   "name": "python",
   "nbconvert_exporter": "python",
   "pygments_lexer": "ipython3",
   "version": "3.7.7-final"
  },
  "orig_nbformat": 2,
  "kernelspec": {
   "name": "python3",
   "display_name": "Python 3"
  }
 },
 "nbformat": 4,
 "nbformat_minor": 2
}