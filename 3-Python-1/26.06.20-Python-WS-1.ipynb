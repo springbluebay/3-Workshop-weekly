{
 "cells": [
  {
   "cell_type": "markdown",
   "metadata": {},
   "source": [
    "### Problem 1\n",
    "\n",
    "Kullanıcıdan aldığınız 3 tane sayıyı çarparak ekrana yazdırın. Ekrana yazdırma işlemini ***format*** metoduyla yapmaya çalışın."
   ]
  },
  {
   "cell_type": "code",
   "execution_count": null,
   "metadata": {},
   "outputs": [],
   "source": [
    "a=int(input(\"a:\"))\n",
    "b=int(input(\"b:\"))\n",
    "c=int(input(\"c:\"))\n",
    "\n",
    "çarpım = a * b * c\n",
    "\n",
    "print(\"{}*{}*{} = {}'dir.\".format(a, b, c, çarpım))\n",
    "print(f\"{a}*{b}*{c} = {çarpım}'dir.\")\n",
    "print(a, \"*\", b, \"*\", c, \"=\", carpım, \"'dir.\", sep=\"\")"
   ]
  },
  {
   "cell_type": "markdown",
   "metadata": {},
   "source": [
    "### Problem 2\n",
    "\n",
    "Kullanıcıdan aldığınız **boy** ve **kilo** değerlerine göre kullanıcının beden kitle indeksini bulun.\n",
    "\n",
    "*Beden Kitle İndeksi :  Kilo / Boy(m) x Boy(m)"
   ]
  },
  {
   "cell_type": "code",
   "execution_count": null,
   "metadata": {
    "tags": []
   },
   "outputs": [],
   "source": [
    "boy=float(input(\"boyunuzu giriniz:\"))\n",
    "kilo=int(input(\"kilonuzu giriniz:\"))\n",
    "\n",
    "print(\"Beden Kitle İndeksi:\", kilo / (boy ** 2))\n"
   ]
  },
  {
   "cell_type": "markdown",
   "metadata": {},
   "source": [
    "### Problem 3\n",
    "\n",
    "Elinizde 200 dolarla değeri 11 dolar olan malzemeden max kaç adet alabilirsiniz? Geriye ne kadar paranız kalır?"
   ]
  },
  {
   "cell_type": "code",
   "execution_count": null,
   "metadata": {
    "tags": []
   },
   "outputs": [],
   "source": [
    "top_para = 200\n",
    "malz_tut = 11\n",
    "\n",
    "max = top_para // malz_tut   # bölüm \n",
    "kalan_para = top_para % max\n",
    "\n",
    "print(f\"{top_para} dolar ile {max} adet malzeme alabilirsin. Geriye {kalan_para} dolar para kalır\")\n"
   ]
  },
  {
   "cell_type": "markdown",
   "metadata": {},
   "source": [
    "### Problem 4\n",
    "\n",
    "Kullanıcıdan iki tane sayı isteyin ve bu sayıların değerlerini birbirleriyle değiştirin.."
   ]
  },
  {
   "cell_type": "code",
   "execution_count": null,
   "metadata": {
    "tags": []
   },
   "outputs": [],
   "source": [
    "a = 2\n",
    "b = 5\n",
    "\n",
    "print(f\"Değiştirilmeden Önceki \\b Değerlera=\\n a = {a} b = {b}\")\n",
    "\n",
    "a, b = b, a\n",
    "\n",
    "print(f\"Değiştirilmeden Sonraki Değerler\\n a = {a} b= {b}\")"
   ]
  },
  {
   "cell_type": "markdown",
   "metadata": {},
   "source": [
    "### Problem 5\n",
    "\n",
    "Kullanıcıdan ad,soyad ve numara bilgisini alarak bunları alt alta ekrana yazdırın."
   ]
  },
  {
   "cell_type": "code",
   "execution_count": null,
   "metadata": {
    "tags": []
   },
   "outputs": [],
   "source": [
    "Ad=input(\"Adınız: \")\n",
    "Soyad=input(\"Soyadınız: \")\n",
    "Telefon=int(input(\"Telofonunuz: \"))\n",
    "\n",
    "print(\"Adı:\\t{}\\nSoyadı:\\t{}\\nTelefon:{}\".format(Ad,Soyad,Telefon))\n",
    "print(f\"Adı:\\t{Ad}\\nSoyadı:\\t{Soyad}\\nTelefon:{Telefon}\")"
   ]
  },
  {
   "cell_type": "markdown",
   "metadata": {},
   "source": [
    "### Problem 6\n",
    "\n",
    "Kullanıcıdan word, seperator ve repetition değerleri alıp, verilen değerlere göre kelimeyi ekrana yazdırın. Örn: word = ali sep = / repetition = 3 ----> ali/ali/ali"
   ]
  },
  {
   "cell_type": "code",
   "execution_count": null,
   "metadata": {
    "tags": []
   },
   "outputs": [],
   "source": [
    "word = input(\"Word: \")\n",
    "seperator = input(\"Seperator: \")\n",
    "repetitions = int(input(\"repetitions: \"))\n",
    "a = (word + seperator) * (repetitions - 1) + word\n",
    "print(a)\n",
    "a = ((word + seperator) * repetitions)\n",
    "print(a+\"\\b\")"
   ]
  },
  {
   "cell_type": "markdown",
   "metadata": {},
   "source": [
    "### Problem 7\n",
    "\n",
    "Kullanıcıdan kelime ve sayı girdisi alın ve örnekteki çıktıyı elde edin.\n",
    "Örn:\n",
    "word = Clarusway\n",
    "n = 3\n",
    "OUTPUT = waywayway "
   ]
  },
  {
   "cell_type": "code",
   "execution_count": null,
   "metadata": {
    "tags": []
   },
   "outputs": [],
   "source": [
    "word=input(\"Word:\")\n",
    "n=int(input(\"Repetitions of the last n character:\"))\n",
    "\n",
    "c=word[-n:]\n",
    "\n",
    "print(c*n)"
   ]
  },
  {
   "cell_type": "markdown",
   "metadata": {},
   "source": [
    "### Problem 8\n",
    "Kullanıcıdan bir sayı alın, eğer sayı 3 e bölünüyorsa Clarus, 5 e bölünüyorsa way, her ikisine bölünüyorsa Clarusway, bölünmüyorsa sayının kendisini yazdırın"
   ]
  },
  {
   "cell_type": "code",
   "execution_count": null,
   "metadata": {
    "tags": []
   },
   "outputs": [],
   "source": [
    "num = int(input(\"Birsayı girin: \"))\n",
    "\n",
    "print(num % 3 == 0) # False = 0 True = 1\n",
    "print(num % 5 == 0)\n",
    "print(\"yazmaz\"*False) # print edince yazmaz\n",
    "print(\"yazar\"*True)\n",
    "\n",
    "print('Clarus' * (num % 3 == 0) + 'way' * (num % 5 == 0) or num)"
   ]
  },
  {
   "cell_type": "markdown",
   "metadata": {},
   "source": [
    "### Problem 9\n",
    "letters = \"abclarusxyz\" \n",
    "- yığındaki clarus kelimesini elde edin\n",
    "- cba yı elde edin\n",
    "- son sekiz karakteri ters sırayla yazdırın"
   ]
  },
  {
   "cell_type": "code",
   "execution_count": null,
   "metadata": {
    "tags": []
   },
   "outputs": [],
   "source": [
    "letters = \"abclarusxyz\" \n",
    "print(letters[2:8])"
   ]
  },
  {
   "cell_type": "code",
   "execution_count": null,
   "metadata": {
    "tags": []
   },
   "outputs": [],
   "source": [
    "letters = \"abclarusxyz\" \n",
    "print(letters[2::-1]) "
   ]
  },
  {
   "cell_type": "code",
   "execution_count": null,
   "metadata": {
    "tags": []
   },
   "outputs": [],
   "source": [
    "letters = \"abclarusxyz\"\n",
    "print(letters[:-9:-1])\n",
    "print(letters[:2:-1])\n"
   ]
  },
  {
   "cell_type": "markdown",
   "metadata": {},
   "source": [
    "### Problem 10\n",
    "rand_list listesinin elemanlarından\n",
    "Clarusway is the best yazdırın"
   ]
  },
  {
   "cell_type": "code",
   "execution_count": null,
   "metadata": {
    "tags": []
   },
   "outputs": [],
   "source": [
    "rand_list = [1,[1, 2, \"Clarus\", [2, \"way\"]], \" is the best\"]\n",
    "print(rand_list[1][2] + rand_list[1][3][1] + rand_list[2])"
   ]
  },
  {
   "cell_type": "markdown",
   "metadata": {},
   "source": [
    "### Problem 11\n",
    "Aşağıda verilen listeyi küçükten büyüğe sıralayın. 1 den 10 a kadar eksik olan sayıyı bulun?"
   ]
  },
  {
   "cell_type": "code",
   "execution_count": null,
   "metadata": {
    "tags": []
   },
   "outputs": [],
   "source": [
    "num_list = [2, 3, 1, 5, 6, 4, 9, 8, 10]\n",
    "kume1 = set(range(1, 11))\n",
    "\n",
    "kume2 = set(num_list)\n",
    "mis_num = kume1.difference(kume2)\n",
    "print(mis_num)\n",
    "print(type(mis_num))"
   ]
  },
  {
   "cell_type": "code",
   "execution_count": null,
   "metadata": {
    "tags": []
   },
   "outputs": [],
   "source": [
    "num_list = [2, 3, 2, 5, 6, 4, 10, 8, 7]\n",
    "a = set(num_list)\n",
    "print(a)"
   ]
  },
  {
   "cell_type": "markdown",
   "metadata": {},
   "source": [
    "### Problem 12\n",
    "en yaşlı kişinin ismini yazdırın?"
   ]
  },
  {
   "cell_type": "code",
   "execution_count": null,
   "metadata": {
    "tags": []
   },
   "outputs": [],
   "source": [
    "old = {                                 \n",
    "  \"Emma\": 71,\n",
    "  \"Jack\": 45,\n",
    "  \"Amy\": 15,\n",
    "  \"Ben\": 29\n",
    "}\n",
    "\n",
    "print(max(old, key=old.get))  # The get() method returns the value of the item with the specified key if key is in dictionary."
   ]
  },
  {
   "cell_type": "code",
   "execution_count": null,
   "metadata": {
    "tags": []
   },
   "outputs": [],
   "source": [
    "# boş vaktinizde bakarsınız :)\n",
    "\n",
    "old = {\n",
    "  \"Emma\": 71,\n",
    "  \"Jack\": 45,\n",
    "  \"Amy\": 15,\n",
    "  \"Ben\": 29\n",
    "}\n",
    "\n",
    "print(sorted(old.values(), reverse=True))\n",
    "print(sorted(old, reverse=True))\n",
    "print(\"\\n\")\n",
    "\n",
    "print(old.get(\"Amy\"))  # The get() method returns the value of the item with the specified key if key is in dictionary.\n",
    "print(max(old, key=old.get)) \n",
    "\n",
    "print(sorted(old, key=old.get, reverse=True))\n",
    "print(\"\\n\")\n",
    "\n",
    "Keymax = max(old, key=old.get)\n",
    "print(Keymax, \":\", old[max(old, key=old.get)])"
   ]
  },
  {
   "cell_type": "code",
   "execution_count": null,
   "metadata": {
    "tags": []
   },
   "outputs": [],
   "source": [
    "print(\"The largest key:\", max(old)) # the largest key\n",
    "\n",
    "key1 = max(old, key = lambda k: old[k])       #lambda\n",
    "print(\"The key with the largest value:\", key1)  "
   ]
  }
 ],
 "metadata": {
  "language_info": {
   "codemirror_mode": {
    "name": "ipython",
    "version": 3
   },
   "file_extension": ".py",
   "mimetype": "text/x-python",
   "name": "python",
   "nbconvert_exporter": "python",
   "pygments_lexer": "ipython3",
   "version": "3.7.7-final"
  },
  "orig_nbformat": 2,
  "kernelspec": {
   "name": "python3",
   "display_name": "Python 3"
  }
 },
 "nbformat": 4,
 "nbformat_minor": 2
}